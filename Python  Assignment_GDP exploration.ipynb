{
 "cells": [
  {
   "cell_type": "code",
   "execution_count": 3,
   "id": "bfb0c9ed",
   "metadata": {},
   "outputs": [],
   "source": [
    "import pandas as pd\n",
    "con=pd.DataFrame({'Country':['Algeria','Angola','Argentina','Australia','Austria','Bahamas','Bangladesh','Belarus','Belgium','Bhutan','Brazil','Bulgaria','Cambodia','Cameroon','Chile','China','Colombia','Cyprus','Denmark','El Salvador','Estonia','Ethiopia','Fiji','Finland','France','Georgia','Ghana','Grenada','Guinea','Haiti','Honduras','Hungary','India','Indonesia','Ireland','Italy','Japan','Kenya', 'South Korea','Liberia','Malaysia','Mexico', 'Morocco','Nepal','New Zealand','Norway','Pakistan', 'Peru','Qatar','Russia','Singapore','South Africa','Spain','Sweden','Switzerland','Thailand', 'United Arab Emirates','United Kingdom','United States','Uruguay','Venezuela','Vietnam','Zimbabwe'],'GDP':[2255.225482,629.9553062,11601.63022,25306.82494,27266.40335,19466.99052,588.3691778,2890.345675,24733.62696,1445.760002,4803.398244,2618.876037,590.4521124,665.7982328,7122.938458,2639.54156,3362.4656,15378.16704,30860.12808,2579.115607,6525.541272,229.6769525,2242.689259,27570.4852,23016.84778,1334.646773,402.6953275,6047.200797,394.1156638,385.5793827,1414.072488,5745.981529,837.7464011,1206.991065,27715.52837,18937.24998,39578.07441,478.2194906,16684.21278,279.2204061,5345.213415,6288.25324,1908.304416,274.8728621,14646.42094,40034.85063,672.1547506,3359.517402,36152.66676,3054.727742,33529.83052,3825.093781,15428.32098,33630.24604,39170.41371,2699.123242,21058.43643,28272.40661,37691.02733,9581.05659,5671.912202,757.4009286,347.7456605]})"
   ]
  },
  {
   "cell_type": "code",
   "execution_count": 9,
   "id": "bdf9ffea",
   "metadata": {},
   "outputs": [
    {
     "data": {
      "text/html": [
       "<div>\n",
       "<style scoped>\n",
       "    .dataframe tbody tr th:only-of-type {\n",
       "        vertical-align: middle;\n",
       "    }\n",
       "\n",
       "    .dataframe tbody tr th {\n",
       "        vertical-align: top;\n",
       "    }\n",
       "\n",
       "    .dataframe thead th {\n",
       "        text-align: right;\n",
       "    }\n",
       "</style>\n",
       "<table border=\"1\" class=\"dataframe\">\n",
       "  <thead>\n",
       "    <tr style=\"text-align: right;\">\n",
       "      <th></th>\n",
       "      <th>Country</th>\n",
       "      <th>GDP</th>\n",
       "    </tr>\n",
       "  </thead>\n",
       "  <tbody>\n",
       "    <tr>\n",
       "      <th>0</th>\n",
       "      <td>Algeria</td>\n",
       "      <td>2255.225482</td>\n",
       "    </tr>\n",
       "    <tr>\n",
       "      <th>1</th>\n",
       "      <td>Angola</td>\n",
       "      <td>629.955306</td>\n",
       "    </tr>\n",
       "    <tr>\n",
       "      <th>2</th>\n",
       "      <td>Argentina</td>\n",
       "      <td>11601.630220</td>\n",
       "    </tr>\n",
       "    <tr>\n",
       "      <th>3</th>\n",
       "      <td>Australia</td>\n",
       "      <td>25306.824940</td>\n",
       "    </tr>\n",
       "    <tr>\n",
       "      <th>4</th>\n",
       "      <td>Austria</td>\n",
       "      <td>27266.403350</td>\n",
       "    </tr>\n",
       "    <tr>\n",
       "      <th>...</th>\n",
       "      <td>...</td>\n",
       "      <td>...</td>\n",
       "    </tr>\n",
       "    <tr>\n",
       "      <th>58</th>\n",
       "      <td>United States</td>\n",
       "      <td>37691.027330</td>\n",
       "    </tr>\n",
       "    <tr>\n",
       "      <th>59</th>\n",
       "      <td>Uruguay</td>\n",
       "      <td>9581.056590</td>\n",
       "    </tr>\n",
       "    <tr>\n",
       "      <th>60</th>\n",
       "      <td>Venezuela</td>\n",
       "      <td>5671.912202</td>\n",
       "    </tr>\n",
       "    <tr>\n",
       "      <th>61</th>\n",
       "      <td>Vietnam</td>\n",
       "      <td>757.400929</td>\n",
       "    </tr>\n",
       "    <tr>\n",
       "      <th>62</th>\n",
       "      <td>Zimbabwe</td>\n",
       "      <td>347.745660</td>\n",
       "    </tr>\n",
       "  </tbody>\n",
       "</table>\n",
       "<p>63 rows × 2 columns</p>\n",
       "</div>"
      ],
      "text/plain": [
       "          Country           GDP\n",
       "0         Algeria   2255.225482\n",
       "1          Angola    629.955306\n",
       "2       Argentina  11601.630220\n",
       "3       Australia  25306.824940\n",
       "4         Austria  27266.403350\n",
       "..            ...           ...\n",
       "58  United States  37691.027330\n",
       "59        Uruguay   9581.056590\n",
       "60      Venezuela   5671.912202\n",
       "61        Vietnam    757.400929\n",
       "62       Zimbabwe    347.745660\n",
       "\n",
       "[63 rows x 2 columns]"
      ]
     },
     "execution_count": 9,
     "metadata": {},
     "output_type": "execute_result"
    }
   ],
   "source": [
    "con"
   ]
  },
  {
   "cell_type": "code",
   "execution_count": 13,
   "id": "5b75fee2",
   "metadata": {},
   "outputs": [
    {
     "data": {
      "text/plain": [
       "45"
      ]
     },
     "execution_count": 13,
     "metadata": {},
     "output_type": "execute_result"
    }
   ],
   "source": [
    "#country with the highest GDP\n",
    "con['GDP'].idxmax()"
   ]
  },
  {
   "cell_type": "code",
   "execution_count": 14,
   "id": "5f38f862",
   "metadata": {},
   "outputs": [
    {
     "data": {
      "text/plain": [
       "Country         Norway\n",
       "GDP        40034.85063\n",
       "Name: 45, dtype: object"
      ]
     },
     "execution_count": 14,
     "metadata": {},
     "output_type": "execute_result"
    }
   ],
   "source": [
    "con.iloc[45,:]"
   ]
  },
  {
   "cell_type": "code",
   "execution_count": 36,
   "id": "c5fe6d79",
   "metadata": {},
   "outputs": [
    {
     "data": {
      "text/plain": [
       "21"
      ]
     },
     "execution_count": 36,
     "metadata": {},
     "output_type": "execute_result"
    }
   ],
   "source": [
    "#country with lowest GDP\n",
    "con['GDP'].idxmin()\n"
   ]
  },
  {
   "cell_type": "code",
   "execution_count": 41,
   "id": "7f14b0cd",
   "metadata": {},
   "outputs": [
    {
     "data": {
      "text/plain": [
       "Country      Ethiopia\n",
       "GDP        229.676952\n",
       "Name: 21, dtype: object"
      ]
     },
     "execution_count": 41,
     "metadata": {},
     "output_type": "execute_result"
    }
   ],
   "source": [
    "con.iloc[21,:]"
   ]
  },
  {
   "cell_type": "code",
   "execution_count": 42,
   "id": "716e857b",
   "metadata": {},
   "outputs": [
    {
     "data": {
      "text/plain": [
       "40034.85063"
      ]
     },
     "execution_count": 42,
     "metadata": {},
     "output_type": "execute_result"
    }
   ],
   "source": [
    "#Maximum GDP\n",
    "con['GDP'].max()\n"
   ]
  },
  {
   "cell_type": "code",
   "execution_count": 43,
   "id": "0bbf446c",
   "metadata": {},
   "outputs": [
    {
     "data": {
      "text/plain": [
       "229.6769525"
      ]
     },
     "execution_count": 43,
     "metadata": {},
     "output_type": "execute_result"
    }
   ],
   "source": [
    "#Minimum GDP\n",
    "con['GDP'].min()"
   ]
  },
  {
   "cell_type": "code",
   "execution_count": 44,
   "id": "19425f74",
   "metadata": {},
   "outputs": [
    {
     "data": {
      "text/plain": [
       "11289.409271639684"
      ]
     },
     "execution_count": 44,
     "metadata": {},
     "output_type": "execute_result"
    }
   ],
   "source": [
    "#Mean of GDP\n",
    "con['GDP'].mean()"
   ]
  },
  {
   "cell_type": "code",
   "execution_count": 45,
   "id": "a0307195",
   "metadata": {},
   "outputs": [
    {
     "data": {
      "text/plain": [
       "711232.7841133"
      ]
     },
     "execution_count": 45,
     "metadata": {},
     "output_type": "execute_result"
    }
   ],
   "source": [
    "#Sum of GDP\n",
    "con['GDP'].sum()"
   ]
  },
  {
   "cell_type": "code",
   "execution_count": 51,
   "id": "ed32c56c",
   "metadata": {},
   "outputs": [
    {
     "data": {
      "text/html": [
       "<div>\n",
       "<style scoped>\n",
       "    .dataframe tbody tr th:only-of-type {\n",
       "        vertical-align: middle;\n",
       "    }\n",
       "\n",
       "    .dataframe tbody tr th {\n",
       "        vertical-align: top;\n",
       "    }\n",
       "\n",
       "    .dataframe thead th {\n",
       "        text-align: right;\n",
       "    }\n",
       "</style>\n",
       "<table border=\"1\" class=\"dataframe\">\n",
       "  <thead>\n",
       "    <tr style=\"text-align: right;\">\n",
       "      <th></th>\n",
       "      <th>GDP</th>\n",
       "    </tr>\n",
       "  </thead>\n",
       "  <tbody>\n",
       "    <tr>\n",
       "      <th>count</th>\n",
       "      <td>63.000000</td>\n",
       "    </tr>\n",
       "    <tr>\n",
       "      <th>mean</th>\n",
       "      <td>11289.409272</td>\n",
       "    </tr>\n",
       "    <tr>\n",
       "      <th>std</th>\n",
       "      <td>12846.190627</td>\n",
       "    </tr>\n",
       "    <tr>\n",
       "      <th>min</th>\n",
       "      <td>229.676952</td>\n",
       "    </tr>\n",
       "    <tr>\n",
       "      <th>25%</th>\n",
       "      <td>1270.818919</td>\n",
       "    </tr>\n",
       "    <tr>\n",
       "      <th>50%</th>\n",
       "      <td>4803.398244</td>\n",
       "    </tr>\n",
       "    <tr>\n",
       "      <th>75%</th>\n",
       "      <td>20262.713475</td>\n",
       "    </tr>\n",
       "    <tr>\n",
       "      <th>max</th>\n",
       "      <td>40034.850630</td>\n",
       "    </tr>\n",
       "  </tbody>\n",
       "</table>\n",
       "</div>"
      ],
      "text/plain": [
       "                GDP\n",
       "count     63.000000\n",
       "mean   11289.409272\n",
       "std    12846.190627\n",
       "min      229.676952\n",
       "25%     1270.818919\n",
       "50%     4803.398244\n",
       "75%    20262.713475\n",
       "max    40034.850630"
      ]
     },
     "execution_count": 51,
     "metadata": {},
     "output_type": "execute_result"
    }
   ],
   "source": [
    "con.describe()"
   ]
  },
  {
   "cell_type": "code",
   "execution_count": 52,
   "id": "12bda9a1",
   "metadata": {},
   "outputs": [
    {
     "data": {
      "text/plain": [
       "12846.190626580401"
      ]
     },
     "execution_count": 52,
     "metadata": {},
     "output_type": "execute_result"
    }
   ],
   "source": [
    "con['GDP'].std()"
   ]
  },
  {
   "cell_type": "code",
   "execution_count": null,
   "id": "fd865ad8",
   "metadata": {},
   "outputs": [],
   "source": []
  }
 ],
 "metadata": {
  "kernelspec": {
   "display_name": "Python 3",
   "language": "python",
   "name": "python3"
  },
  "language_info": {
   "codemirror_mode": {
    "name": "ipython",
    "version": 3
   },
   "file_extension": ".py",
   "mimetype": "text/x-python",
   "name": "python",
   "nbconvert_exporter": "python",
   "pygments_lexer": "ipython3",
   "version": "3.8.8"
  }
 },
 "nbformat": 4,
 "nbformat_minor": 5
}
